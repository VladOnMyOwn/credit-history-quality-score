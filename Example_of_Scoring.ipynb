{
 "cells": [
  {
   "cell_type": "code",
   "execution_count": 1,
   "metadata": {},
   "outputs": [],
   "source": [
    "import pandas as pd\n",
    "from chq import chq"
   ]
  },
  {
   "cell_type": "code",
   "execution_count": 2,
   "metadata": {},
   "outputs": [],
   "source": [
    "data_path = './data/'"
   ]
  },
  {
   "cell_type": "code",
   "execution_count": 3,
   "metadata": {},
   "outputs": [
    {
     "data": {
      "text/html": [
       "<div>\n",
       "<style scoped>\n",
       "    .dataframe tbody tr th:only-of-type {\n",
       "        vertical-align: middle;\n",
       "    }\n",
       "\n",
       "    .dataframe tbody tr th {\n",
       "        vertical-align: top;\n",
       "    }\n",
       "\n",
       "    .dataframe thead th {\n",
       "        text-align: right;\n",
       "    }\n",
       "</style>\n",
       "<table border=\"1\" class=\"dataframe\">\n",
       "  <thead>\n",
       "    <tr style=\"text-align: right;\">\n",
       "      <th></th>\n",
       "      <th>ApplicationID</th>\n",
       "      <th>ApplicationDate</th>\n",
       "      <th>DealUID</th>\n",
       "      <th>PaymentDiscipline</th>\n",
       "      <th>LoanKindCode</th>\n",
       "      <th>BCHPartnerType</th>\n",
       "      <th>CreditStatus</th>\n",
       "      <th>CloseDtFact</th>\n",
       "      <th>LastUpdateDt</th>\n",
       "    </tr>\n",
       "  </thead>\n",
       "  <tbody>\n",
       "    <tr>\n",
       "      <th>0</th>\n",
       "      <td>12345-zxywa</td>\n",
       "      <td>2023-04-07</td>\n",
       "      <td>abc-12</td>\n",
       "      <td>0</td>\n",
       "      <td>microloan</td>\n",
       "      <td>microfinance_organization</td>\n",
       "      <td>active_wo_overdue</td>\n",
       "      <td>NaT</td>\n",
       "      <td>2023-01-25</td>\n",
       "    </tr>\n",
       "    <tr>\n",
       "      <th>1</th>\n",
       "      <td>12345-zxywa</td>\n",
       "      <td>2023-04-07</td>\n",
       "      <td>mno-56</td>\n",
       "      <td>CC22</td>\n",
       "      <td>loan</td>\n",
       "      <td>microfinance_organization</td>\n",
       "      <td>closed</td>\n",
       "      <td>2022-02-05</td>\n",
       "      <td>2023-02-05</td>\n",
       "    </tr>\n",
       "    <tr>\n",
       "      <th>2</th>\n",
       "      <td>12345-zxywa</td>\n",
       "      <td>2023-04-07</td>\n",
       "      <td>ghi-34</td>\n",
       "      <td>220000220</td>\n",
       "      <td>loan</td>\n",
       "      <td>credit_organization</td>\n",
       "      <td>active_w_overdue</td>\n",
       "      <td>NaT</td>\n",
       "      <td>2023-04-04</td>\n",
       "    </tr>\n",
       "    <tr>\n",
       "      <th>3</th>\n",
       "      <td>12345-zxywa</td>\n",
       "      <td>2023-04-07</td>\n",
       "      <td>jkl-45</td>\n",
       "      <td>1100-</td>\n",
       "      <td>microloan</td>\n",
       "      <td>microfinance_organization</td>\n",
       "      <td>active_w_overdue</td>\n",
       "      <td>NaT</td>\n",
       "      <td>2023-04-04</td>\n",
       "    </tr>\n",
       "    <tr>\n",
       "      <th>4</th>\n",
       "      <td>12345-zxywa</td>\n",
       "      <td>2023-04-07</td>\n",
       "      <td>def-23</td>\n",
       "      <td>120</td>\n",
       "      <td>microloan</td>\n",
       "      <td>microfinance_organization</td>\n",
       "      <td>active_w_overdue</td>\n",
       "      <td>NaT</td>\n",
       "      <td>2023-04-05</td>\n",
       "    </tr>\n",
       "  </tbody>\n",
       "</table>\n",
       "</div>"
      ],
      "text/plain": [
       "  ApplicationID ApplicationDate DealUID PaymentDiscipline LoanKindCode  \\\n",
       "0   12345-zxywa      2023-04-07  abc-12                 0    microloan   \n",
       "1   12345-zxywa      2023-04-07  mno-56              CC22         loan   \n",
       "2   12345-zxywa      2023-04-07  ghi-34         220000220         loan   \n",
       "3   12345-zxywa      2023-04-07  jkl-45             1100-    microloan   \n",
       "4   12345-zxywa      2023-04-07  def-23               120    microloan   \n",
       "\n",
       "              BCHPartnerType       CreditStatus CloseDtFact LastUpdateDt  \n",
       "0  microfinance_organization  active_wo_overdue         NaT   2023-01-25  \n",
       "1  microfinance_organization             closed  2022-02-05   2023-02-05  \n",
       "2        credit_organization   active_w_overdue         NaT   2023-04-04  \n",
       "3  microfinance_organization   active_w_overdue         NaT   2023-04-04  \n",
       "4  microfinance_organization   active_w_overdue         NaT   2023-04-05  "
      ]
     },
     "metadata": {},
     "output_type": "display_data"
    }
   ],
   "source": [
    "test_data = pd.read_excel(data_path + 'ch_sample_data.xlsx')\n",
    "display(test_data)"
   ]
  },
  {
   "cell_type": "code",
   "execution_count": 4,
   "metadata": {},
   "outputs": [
    {
     "data": {
      "text/html": [
       "<div>\n",
       "<style scoped>\n",
       "    .dataframe tbody tr th:only-of-type {\n",
       "        vertical-align: middle;\n",
       "    }\n",
       "\n",
       "    .dataframe tbody tr th {\n",
       "        vertical-align: top;\n",
       "    }\n",
       "\n",
       "    .dataframe thead th {\n",
       "        text-align: right;\n",
       "    }\n",
       "</style>\n",
       "<table border=\"1\" class=\"dataframe\">\n",
       "  <thead>\n",
       "    <tr style=\"text-align: right;\">\n",
       "      <th></th>\n",
       "      <th>chq</th>\n",
       "    </tr>\n",
       "    <tr>\n",
       "      <th>ApplicationID</th>\n",
       "      <th></th>\n",
       "    </tr>\n",
       "  </thead>\n",
       "  <tbody>\n",
       "    <tr>\n",
       "      <th>12345-zxywa</th>\n",
       "      <td>0.825123</td>\n",
       "    </tr>\n",
       "  </tbody>\n",
       "</table>\n",
       "</div>"
      ],
      "text/plain": [
       "                    chq\n",
       "ApplicationID          \n",
       "12345-zxywa    0.825123"
      ]
     },
     "metadata": {},
     "output_type": "display_data"
    }
   ],
   "source": [
    "columns_to_calc = [\n",
    "    \"ApplicationDate\",\n",
    "    \"DealUID\",\n",
    "    \"PaymentDiscipline\",\n",
    "    \"LoanKindCode\",\n",
    "    \"BCHPartnerType\",\n",
    "    \"CreditStatus\",\n",
    "    \"CloseDtFact\",\n",
    "    \"LastUpdateDt\",\n",
    "]\n",
    "\n",
    "data_w_chq = test_data.groupby(by=\"ApplicationID\")[columns_to_calc].apply(\n",
    "    chq, microloans_only=False, col=\"chq\"\n",
    ")\n",
    "\n",
    "agg_chq = {\"chq\": lambda s: s.values[0]}\n",
    "data_collapsed = data_w_chq.groupby(by=\"ApplicationID\").agg(agg_chq)\n",
    "\n",
    "display(data_collapsed)"
   ]
  }
 ],
 "metadata": {
  "kernelspec": {
   "display_name": "Python 3",
   "language": "python",
   "name": "python3"
  },
  "language_info": {
   "codemirror_mode": {
    "name": "ipython",
    "version": 3
   },
   "file_extension": ".py",
   "mimetype": "text/x-python",
   "name": "python",
   "nbconvert_exporter": "python",
   "pygments_lexer": "ipython3",
   "version": "3.11.2"
  }
 },
 "nbformat": 4,
 "nbformat_minor": 2
}
